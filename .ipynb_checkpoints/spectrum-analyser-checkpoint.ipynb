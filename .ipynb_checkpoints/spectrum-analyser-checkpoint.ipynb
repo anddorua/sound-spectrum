{
 "cells": [
  {
   "cell_type": "code",
   "execution_count": 45,
   "id": "3b5ed3e9-fccf-4f34-acfa-34f6457f3065",
   "metadata": {},
   "outputs": [],
   "source": [
    "import pyaudio\n",
    "import numpy as np\n",
    "import matplotlib.pyplot as plt\n",
    "import matplotlib.ticker as ticker\n",
    "from scipy.fftpack import fft"
   ]
  },
  {
   "cell_type": "code",
   "execution_count": 2,
   "id": "3d116f21-e450-4668-9c39-b1e666bea146",
   "metadata": {
    "editable": true,
    "slideshow": {
     "slide_type": ""
    },
    "tags": []
   },
   "outputs": [],
   "source": [
    "import ipywidgets as widgets\n",
    "from IPython.display import display, clear_output\n",
    "import time\n",
    "import threading"
   ]
  },
  {
   "cell_type": "code",
   "execution_count": 3,
   "id": "b44c6d6b-6594-4d74-83b2-798ebc18bfcf",
   "metadata": {
    "editable": true,
    "slideshow": {
     "slide_type": ""
    },
    "tags": []
   },
   "outputs": [
    {
     "data": {
      "application/vnd.jupyter.widget-view+json": {
       "model_id": "376506ab8f214b1391057790b447f99a",
       "version_major": 2,
       "version_minor": 0
      },
      "text/plain": [
       "Button(description='Stop', style=ButtonStyle())"
      ]
     },
     "metadata": {},
     "output_type": "display_data"
    },
    {
     "data": {
      "application/vnd.jupyter.widget-view+json": {
       "model_id": "233f3b0cb3b84114af7486ef2cd80a08",
       "version_major": 2,
       "version_minor": 0
      },
      "text/plain": [
       "Output()"
      ]
     },
     "metadata": {},
     "output_type": "display_data"
    }
   ],
   "source": [
    "keep_running = True\n",
    "output = widgets.Output()\n",
    "\n",
    "def on_button_click(b):\n",
    "    global keep_running\n",
    "    global output\n",
    "    global stream\n",
    "    global audio\n",
    "    global plt\n",
    "    global fig\n",
    "    keep_running = False\n",
    "    \n",
    "    # Clear the current output and then display the new message\n",
    "    clear_output(wait=True)\n",
    "    with output:\n",
    "        print(f\"Keep running: {keep_running} {stream}\")\n",
    "        if not (stream is None):\n",
    "            print(f\"Closing audio\")\n",
    "            stream.stop_stream()\n",
    "            stream.close()\n",
    "            audio.terminate()\n",
    "            plt.close(fig)\n",
    "\n",
    "button = widgets.Button(description=\"Stop\")\n",
    "button.on_click(on_button_click)\n",
    "with output:\n",
    "    print(f\"Keep running: {keep_running}\")\n",
    "display(button, output)"
   ]
  },
  {
   "cell_type": "code",
   "execution_count": 4,
   "id": "44edca56-e198-4fc4-9c91-d12e39e6f7fe",
   "metadata": {},
   "outputs": [],
   "source": [
    "def open_stream(audio, format=pyaudio.paInt16, channels=1, rate=44100, chunk=1024):\n",
    "    # Open stream\n",
    "    stream = audio.open(format=format,\n",
    "                    channels=channels,\n",
    "                    rate=rate,\n",
    "                    input=True,\n",
    "                    frames_per_buffer=chunk)\n",
    "    return stream"
   ]
  },
  {
   "cell_type": "code",
   "execution_count": 8,
   "id": "9a31bade-3696-498f-be65-fb2d8f2fac3a",
   "metadata": {
    "editable": true,
    "slideshow": {
     "slide_type": ""
    },
    "tags": []
   },
   "outputs": [
    {
     "data": {
      "image/png": "[encoded data removed]",
      "text/plain": [
       "<Figure size 640x480 with 1 Axes>"
      ]
     },
     "metadata": {},
     "output_type": "display_data"
    }
   ],
   "source": [
    "def analyse_spectrum(stream, chunk, rate):\n",
    "    global plt\n",
    "    global fig\n",
    "    plt.ion()\n",
    "    fig, ax = plt.subplots()\n",
    "    \n",
    "    # Labeling\n",
    "    ax.set_xlabel('Frequency (Hz)')\n",
    "    ax.set_ylabel('Magnitude')\n",
    "    ax.set_title('Binned Magnitudes of Frequencies')\n",
    "    \n",
    "    # Bin the magnitudes\n",
    "    num_bins = 30\n",
    "    min_frequency = 100\n",
    "    max_frequency = 15000\n",
    "    \n",
    "    # Generate exponential bins from min_frequency to max_frequency\n",
    "    bins = np.logspace(np.log10(min_frequency), np.log10(max_frequency), num_bins + 1)\n",
    "    frequencies = np.fft.fftfreq(chunk, d=1.0/rate)\n",
    "    indices = np.digitize(frequencies, bins)\n",
    "    \n",
    "    # Start the stream\n",
    "    stream.start_stream()\n",
    "    \n",
    "    global keep_running\n",
    "    while keep_running:\n",
    "        \n",
    "        data = stream.read(chunk, exception_on_overflow=False)\n",
    "        \n",
    "        # Extract left channel data\n",
    "        frames = np.frombuffer(data, dtype=np.int16)[0::2]\n",
    "        \n",
    "        # Apply FFT and get frequency magnitudes\n",
    "        fft_result = np.fft.fft(frames)\n",
    "        magnitudes = np.abs(fft_result)\n",
    "        \n",
    "        binned_magnitudes = np.zeros(num_bins)\n",
    "\n",
    "        for i in range(1, len(bins)):\n",
    "            bin_indices = indices == i\n",
    "            if np.any(bin_indices):  # Only calculate mean if there are elements in the bin\n",
    "                binned_magnitudes[i-1] = np.mean(magnitudes[bin_indices])\n",
    "\n",
    "        # Update the plot\n",
    "        for bar, height in zip(bars, binned_magnitudes):\n",
    "            bar.set_height(height)\n",
    "        ax.relim()  # Recalculate limits\n",
    "        ax.autoscale_view()  # Autoscale\n",
    "        fig.canvas.draw()\n",
    "        fig.canvas.flush_events()"
   ]
  },
  {
   "cell_type": "code",
   "execution_count": 9,
   "id": "ad75585d-a86b-48e4-96ad-9f3ec9a5fc90",
   "metadata": {
    "editable": true,
    "slideshow": {
     "slide_type": ""
    },
    "tags": []
   },
   "outputs": [
    {
     "data": {
      "text/plain": [
       "<Figure size 640x480 with 0 Axes>"
      ]
     },
     "metadata": {},
     "output_type": "display_data"
    }
   ],
   "source": [
    "keep_running = True\n",
    "audio = pyaudio.PyAudio()\n",
    "stream = open_stream(audio, channels=2)\n",
    "thread = threading.Thread(target=analyse_spectrum, args=(stream, 1024, 44100))\n",
    "thread.start()"
   ]
  },
  {
   "cell_type": "code",
   "execution_count": 25,
   "id": "ccf35d67-1d1e-4579-b7ca-284eaf611fe4",
   "metadata": {
    "editable": true,
    "slideshow": {
     "slide_type": ""
    },
    "tags": []
   },
   "outputs": [],
   "source": [
    "audio = pyaudio.PyAudio()\n",
    "stream = open_stream(audio, channels=2)\n",
    "\n",
    "# Start the stream\n",
    "stream.start_stream()\n",
    "\n",
    "data = stream.read(1024, exception_on_overflow=False)\n",
    "\n",
    "# Extract left channel data\n",
    "frames = np.frombuffer(data, dtype=np.int16)[0::2]\n",
    "\n",
    "# Apply FFT and get frequency magnitudes\n",
    "fft_result = np.fft.fft(frames)\n",
    "frequencies = np.fft.fftfreq(len(fft_result), d=1.0/44100)\n",
    "magnitudes = np.abs(fft_result)\n",
    "\n",
    "# Bin the magnitudes\n",
    "num_bins = 30\n",
    "min_frequency = 100\n",
    "max_frequency = 15000\n",
    "\n",
    "# Generate exponential bins from min_frequency to max_frequency\n",
    "bins = np.logspace(np.log10(min_frequency), np.log10(max_frequency), num_bins + 1)\n",
    "indices = np.digitize(frequencies, bins)\n",
    "binned_magnitudes = np.zeros(num_bins)\n",
    "\n",
    "for i in range(1, len(bins)):\n",
    "    bin_indices = indices == i\n",
    "    if np.any(bin_indices):  # Only calculate mean if there are elements in the bin\n",
    "        binned_magnitudes[i-1] = np.mean(magnitudes[bin_indices])\n",
    "\n",
    "stream.stop_stream()\n",
    "stream.close()\n",
    "audio.terminate()"
   ]
  },
  {
   "cell_type": "code",
   "execution_count": 27,
   "id": "4a0af7f7-af40-425c-8c8f-4f180bd1861b",
   "metadata": {},
   "outputs": [
    {
     "name": "stdout",
     "output_type": "stream",
     "text": [
      "[   0.         3704.81951294    0.         4064.51955024 2812.69423619\n",
      " 3695.26877286 2919.93257552 5314.49716429 4253.48257725 4250.97988835\n",
      " 3806.24760974 4216.69474043 5678.67795377 4231.30870041 4269.41748266\n",
      " 3638.9066646  5439.26904642 5926.84165654 4470.24122247 5653.71881324\n",
      " 5164.86838718 5555.58793545 6353.99984345 7803.97625327 7494.84510288\n",
      " 8290.8245332  1838.38010638  410.15990583  209.90486104  126.64526078]\n"
     ]
    }
   ],
   "source": [
    "print(binned_magnitudes)"
   ]
  },
  {
   "cell_type": "code",
   "execution_count": 28,
   "id": "d360c6b5-f526-43b1-a726-855a83d5e1a4",
   "metadata": {},
   "outputs": [
    {
     "name": "stdout",
     "output_type": "stream",
     "text": [
      "[  100.           118.1779291    139.66022925   165.0475667\n",
      "   195.04979635   230.50581003   272.40699274   321.92494274\n",
      "   380.44423057   449.60111305   531.32928459   627.91394521\n",
      "   742.05569695   876.94605539  1036.35668755  1224.74487139\n",
      "  1447.37812572  1710.48149516  2021.41160854  2388.86237747\n",
      "  2823.10808664  3336.29067293  3942.75922588  4659.47120237\n",
      "  5506.46657377  6507.42816323  7690.3438407   9088.28909128\n",
      " 10740.3518383  12692.7253801  15000.        ]\n"
     ]
    }
   ],
   "source": [
    "print(bins)"
   ]
  },
  {
   "cell_type": "code",
   "execution_count": 29,
   "id": "b51de0ca-c606-4018-bd38-9a32b3c58ba6",
   "metadata": {},
   "outputs": [
    {
     "data": {
      "image/png": "[encoded data removed]",
      "text/plain": [
       "<Figure size 1000x600 with 1 Axes>"
      ]
     },
     "metadata": {},
     "output_type": "display_data"
    }
   ],
   "source": [
    "# Calculate the geometric mean of the bin edges for x-axis labels\n",
    "bin_midpoints = np.sqrt(bins[:-1] * bins[1:])\n",
    "\n",
    "# Create the bar chart\n",
    "plt.figure(figsize=(10, 6))\n",
    "plt.bar(bin_midpoints, binned_magnitudes, width=np.diff(bins), align='edge', edgecolor='black')\n",
    "\n",
    "# Set the scale of the x-axis to logarithmic\n",
    "plt.xscale('log')\n",
    "\n",
    "# Labeling\n",
    "plt.xlabel('Frequency (Hz)')\n",
    "plt.ylabel('Magnitude')\n",
    "plt.title('Binned Magnitudes of Frequencies')\n",
    "\n",
    "# Show the plot\n",
    "plt.show()"
   ]
  },
  {
   "cell_type": "code",
   "execution_count": 48,
   "id": "a4cd4d82-4a2f-4648-9cda-5cb404f1bed8",
   "metadata": {},
   "outputs": [
    {
     "data": {
      "image/png": "[encoded data removed]",
      "text/plain": [
       "<Figure size 640x480 with 1 Axes>"
      ]
     },
     "metadata": {},
     "output_type": "display_data"
    }
   ],
   "source": [
    "plt.ion()\n",
    "fig, ax = plt.subplots()\n",
    "\n",
    "# Labeling\n",
    "ax.set_xlabel('Frequency (Hz)')\n",
    "ax.set_ylabel('Magnitude')\n",
    "ax.set_title('Binned Magnitudes of Frequencies')\n",
    "\n",
    "# Number of bins\n",
    "num_bins = len(binned_magnitudes)\n",
    "\n",
    "# Create evenly spaced x values for the bars\n",
    "x = np.arange(num_bins)\n",
    "\n",
    "# Initialize bars with zeros\n",
    "bars = ax.bar(x, np.zeros(num_bins), align='center', edgecolor='black')\n",
    "\n",
    "# Set custom x-axis tick labels, displaying every 5th label\n",
    "ax.set_xticks(x[::5])  # Set ticks at every 5th position\n",
    "ax.set_xticklabels([\"{:.0f} Hz\".format(freq) for freq in bin_midpoints[::5]])\n",
    "\n",
    "# Update the bars with actual magnitudes\n",
    "for bar, height in zip(bars, binned_magnitudes):\n",
    "    bar.set_height(height)\n",
    "\n",
    "# Update the plot limits and view\n",
    "ax.relim()\n",
    "ax.autoscale_view()\n",
    "\n",
    "# Update the figure canvas\n",
    "fig.canvas.draw()\n",
    "fig.canvas.flush_events()"
   ]
  },
  {
   "cell_type": "code",
   "execution_count": 36,
   "id": "df5bb46d-c4d8-4b7d-a558-ede6c76a08d3",
   "metadata": {},
   "outputs": [],
   "source": [
    "plt.close(fig)"
   ]
  },
  {
   "cell_type": "code",
   "execution_count": 42,
   "id": "bd693472-e2a8-41d6-8001-9986710d8eee",
   "metadata": {},
   "outputs": [
    {
     "name": "stdout",
     "output_type": "stream",
     "text": [
      "[  108.70967257   128.47083977   151.82417793   179.42266934\n",
      "   212.03799496   250.58211133   296.13274986   349.96355116\n",
      "   413.57967735   488.75989785   577.60632553   682.60319384\n",
      "   806.68631842   953.32518541  1126.61996166  1331.41613947\n",
      "  1573.44002127  1859.4588327   2197.46994087  2596.92446862\n",
      "  3068.9915572   3626.87066641  4286.16064455  5065.29588744\n",
      "  5986.06178235  7074.20384877  8360.14760848  9879.84931305\n",
      " 11675.80131593 13798.2202005 ]\n"
     ]
    }
   ],
   "source": [
    "print(bin_midpoints)"
   ]
  },
  {
   "cell_type": "code",
   "execution_count": 49,
   "id": "0facfff1-5b91-44fd-8e1e-69772f83aa74",
   "metadata": {},
   "outputs": [
    {
     "data": {
      "text/plain": [
       "1024"
      ]
     },
     "execution_count": 49,
     "metadata": {},
     "output_type": "execute_result"
    }
   ],
   "source": [
    "len(fft_result)"
   ]
  },
  {
   "cell_type": "code",
   "execution_count": null,
   "id": "02462827-1b6e-4571-933b-87f4cc2feb3b",
   "metadata": {},
   "outputs": [],
   "source": []
  }
 ],
 "metadata": {
  "kernelspec": {
   "display_name": "Python 3 (ipykernel)",
   "language": "python",
   "name": "python3"
  },
  "language_info": {
   "codemirror_mode": {
    "name": "ipython",
    "version": 3
   },
   "file_extension": ".py",
   "mimetype": "text/x-python",
   "name": "python",
   "nbconvert_exporter": "python",
   "pygments_lexer": "ipython3",
   "version": "3.11.7"
  }
 },
 "nbformat": 4,
 "nbformat_minor": 5
}
